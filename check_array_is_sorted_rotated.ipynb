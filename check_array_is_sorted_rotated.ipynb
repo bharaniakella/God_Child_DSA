{
  "nbformat": 4,
  "nbformat_minor": 0,
  "metadata": {
    "colab": {
      "provenance": [],
      "authorship_tag": "ABX9TyMCbvBjPJGdPZECATx7xhr+",
      "include_colab_link": true
    },
    "kernelspec": {
      "name": "python3",
      "display_name": "Python 3"
    },
    "language_info": {
      "name": "python"
    }
  },
  "cells": [
    {
      "cell_type": "markdown",
      "metadata": {
        "id": "view-in-github",
        "colab_type": "text"
      },
      "source": [
        "<a href=\"https://colab.research.google.com/github/bharaniakella/God_Child_DSA/blob/main/check_array_is_sorted_rotated.ipynb\" target=\"_parent\"><img src=\"https://colab.research.google.com/assets/colab-badge.svg\" alt=\"Open In Colab\"/></a>"
      ]
    },
    {
      "cell_type": "code",
      "source": [
        "class Solution:\n",
        "    def check(self, nums: List[int]) -> bool:\n",
        "        index=-1\n",
        "\n",
        "        for i in range(len(nums)-1):\n",
        "            if(nums[i]>nums[i+1]):\n",
        "                index=i\n",
        "                break\n",
        "\n",
        "        if(index==-1):\n",
        "            return True\n",
        "\n",
        "        rotated=nums[index+1:] + nums[:index+1]\n",
        "\n",
        "        if rotated!=sorted(nums):\n",
        "            return False\n",
        "\n",
        "        return True\n",
        ""
      ],
      "metadata": {
        "id": "w8jereW_Wz9h"
      },
      "execution_count": null,
      "outputs": []
    }
  ]
}