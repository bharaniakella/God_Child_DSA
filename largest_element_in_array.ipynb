{
  "nbformat": 4,
  "nbformat_minor": 0,
  "metadata": {
    "colab": {
      "provenance": []
    },
    "kernelspec": {
      "name": "python3",
      "display_name": "Python 3"
    },
    "language_info": {
      "name": "python"
    }
  },
  "cells": [
    {
      "cell_type": "code",
      "execution_count": 5,
      "metadata": {
        "id": "5aNLAFviB-ka"
      },
      "outputs": [],
      "source": [
        "arr=[7,4,2,5,1,3,6]\n",
        "\n",
        "def large(arr):\n",
        "  max=arr[0]\n",
        "  for i in range(len(arr)):\n",
        "    if(arr[i]>max):\n",
        "      max=arr[i]\n",
        "  return max"
      ]
    },
    {
      "cell_type": "code",
      "source": [
        "result=large(arr)\n",
        "result"
      ],
      "metadata": {
        "colab": {
          "base_uri": "https://localhost:8080/"
        },
        "id": "UJMJcypKCmrg",
        "outputId": "91957f07-9645-4a96-e2d7-708213f93bb6"
      },
      "execution_count": 6,
      "outputs": [
        {
          "output_type": "execute_result",
          "data": {
            "text/plain": [
              "7"
            ]
          },
          "metadata": {},
          "execution_count": 6
        }
      ]
    },
    {
      "cell_type": "code",
      "source": [],
      "metadata": {
        "id": "IeGc5l0ECqvI"
      },
      "execution_count": null,
      "outputs": []
    }
  ]
}