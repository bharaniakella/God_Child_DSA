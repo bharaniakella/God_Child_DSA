{
  "nbformat": 4,
  "nbformat_minor": 0,
  "metadata": {
    "colab": {
      "provenance": [],
      "authorship_tag": "ABX9TyOoVQQOAh17mExpm/AkHv+s",
      "include_colab_link": true
    },
    "kernelspec": {
      "name": "python3",
      "display_name": "Python 3"
    },
    "language_info": {
      "name": "python"
    }
  },
  "cells": [
    {
      "cell_type": "markdown",
      "metadata": {
        "id": "view-in-github",
        "colab_type": "text"
      },
      "source": [
        "<a href=\"https://colab.research.google.com/github/bharaniakella/God_Child_DSA/blob/main/left_rotate_array_by_k.ipynb\" target=\"_parent\"><img src=\"https://colab.research.google.com/assets/colab-badge.svg\" alt=\"Open In Colab\"/></a>"
      ]
    },
    {
      "cell_type": "code",
      "execution_count": 18,
      "metadata": {
        "id": "VJ33buDaf-wq"
      },
      "outputs": [],
      "source": [
        "arr=[1,2,3,4,5]\n",
        "k=11\n",
        "\n",
        "def rotatebyk(arr,k):\n",
        "  k=k%len(arr)\n",
        "  n=len(arr)\n",
        "  temp=arr[:k]\n",
        "  arr[:n-k]=arr[k:]\n",
        "  arr[n-k:]=temp\n",
        "  return arr"
      ]
    },
    {
      "cell_type": "code",
      "source": [
        "rotatebyk(arr,k)"
      ],
      "metadata": {
        "colab": {
          "base_uri": "https://localhost:8080/"
        },
        "id": "VtBR9f5Tj9U7",
        "outputId": "60b7ac68-8579-438a-b540-4bc12185f627"
      },
      "execution_count": 19,
      "outputs": [
        {
          "output_type": "execute_result",
          "data": {
            "text/plain": [
              "[2, 3, 4, 5, 1]"
            ]
          },
          "metadata": {},
          "execution_count": 19
        }
      ]
    },
    {
      "cell_type": "code",
      "source": [],
      "metadata": {
        "id": "uXHSB8xa7SA1"
      },
      "execution_count": null,
      "outputs": []
    }
  ]
}