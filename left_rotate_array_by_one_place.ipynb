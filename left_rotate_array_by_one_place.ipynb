{
  "nbformat": 4,
  "nbformat_minor": 0,
  "metadata": {
    "colab": {
      "provenance": [],
      "authorship_tag": "ABX9TyPQHanjVsorZLMwTqZsYK85",
      "include_colab_link": true
    },
    "kernelspec": {
      "name": "python3",
      "display_name": "Python 3"
    },
    "language_info": {
      "name": "python"
    }
  },
  "cells": [
    {
      "cell_type": "markdown",
      "metadata": {
        "id": "view-in-github",
        "colab_type": "text"
      },
      "source": [
        "<a href=\"https://colab.research.google.com/github/bharaniakella/God_Child_DSA/blob/main/left_rotate_array_by_one_place.ipynb\" target=\"_parent\"><img src=\"https://colab.research.google.com/assets/colab-badge.svg\" alt=\"Open In Colab\"/></a>"
      ]
    },
    {
      "cell_type": "code",
      "execution_count": 1,
      "metadata": {
        "id": "1FSAJt57fV9Y"
      },
      "outputs": [],
      "source": [
        "arr=[1,2,3,4,5]\n",
        "\n",
        "def left_rotate(arr):\n",
        "  for i in range(len(arr)-1):\n",
        "    arr[i],arr[i+1]=arr[i+1],arr[i]\n",
        "    return arr"
      ]
    },
    {
      "cell_type": "code",
      "source": [
        "result=left_rotate(arr)\n",
        "result"
      ],
      "metadata": {
        "colab": {
          "base_uri": "https://localhost:8080/"
        },
        "id": "aq3CLQnWfnXV",
        "outputId": "c276fb05-2eec-41e7-f901-812aabf1a417"
      },
      "execution_count": 2,
      "outputs": [
        {
          "output_type": "execute_result",
          "data": {
            "text/plain": [
              "[2, 1, 3, 4, 5]"
            ]
          },
          "metadata": {},
          "execution_count": 2
        }
      ]
    },
    {
      "cell_type": "code",
      "source": [],
      "metadata": {
        "id": "uL4U8MuAfreq"
      },
      "execution_count": null,
      "outputs": []
    }
  ]
}