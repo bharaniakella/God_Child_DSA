{
  "nbformat": 4,
  "nbformat_minor": 0,
  "metadata": {
    "colab": {
      "provenance": [],
      "authorship_tag": "ABX9TyO7qqMuYSwbdrY+fkwDM4d3",
      "include_colab_link": true
    },
    "kernelspec": {
      "name": "python3",
      "display_name": "Python 3"
    },
    "language_info": {
      "name": "python"
    }
  },
  "cells": [
    {
      "cell_type": "markdown",
      "metadata": {
        "id": "view-in-github",
        "colab_type": "text"
      },
      "source": [
        "<a href=\"https://colab.research.google.com/github/bharaniakella/God_Child_DSA/blob/main/second_large_element_Array.ipynb\" target=\"_parent\"><img src=\"https://colab.research.google.com/assets/colab-badge.svg\" alt=\"Open In Colab\"/></a>"
      ]
    },
    {
      "cell_type": "code",
      "execution_count": 11,
      "metadata": {
        "id": "asaAYW0gFBw6"
      },
      "outputs": [],
      "source": [
        "arr=[7,4,2,5,1,3,6,8]\n",
        "\n",
        "def second_large(arr):\n",
        "  largest_element=arr[0]\n",
        "  second_largest_element=None\n",
        "  for i in range(1,len(arr)):\n",
        "    if(arr[i]>largest_element):\n",
        "      second_largest_element=largest_element\n",
        "      largest_element=arr[i]\n",
        "    elif((second_largest_element==None) or (arr[i]>second_largest_element)):\n",
        "      second_largest_element=arr[i]\n",
        "  return second_largest_element"
      ]
    },
    {
      "cell_type": "code",
      "source": [
        "result=second_large(arr)\n",
        "result"
      ],
      "metadata": {
        "colab": {
          "base_uri": "https://localhost:8080/"
        },
        "id": "0FpznxDkGSjp",
        "outputId": "2cd3ae02-2a17-481d-8d9c-fbb754a3a95d"
      },
      "execution_count": 12,
      "outputs": [
        {
          "output_type": "execute_result",
          "data": {
            "text/plain": [
              "7"
            ]
          },
          "metadata": {},
          "execution_count": 12
        }
      ]
    },
    {
      "cell_type": "code",
      "source": [],
      "metadata": {
        "id": "PeIknhONGWPI"
      },
      "execution_count": null,
      "outputs": []
    }
  ]
}